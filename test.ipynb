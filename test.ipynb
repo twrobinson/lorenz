{
 "cells": [
  {
   "cell_type": "code",
   "execution_count": 1,
   "id": "b3b770a8-bf60-46c6-b8cc-723a0b6393f6",
   "metadata": {},
   "outputs": [
    {
     "name": "stdout",
     "output_type": "stream",
     "text": [
      "hello\n"
     ]
    }
   ],
   "source": [
    "print('hello')"
   ]
  },
  {
   "cell_type": "code",
   "execution_count": 2,
   "id": "4ad5cd72-7004-4537-8c16-da08aa2b1672",
   "metadata": {},
   "outputs": [
    {
     "name": "stdout",
     "output_type": "stream",
     "text": [
      "hlll\n"
     ]
    }
   ],
   "source": [
    "print('hlll')\n"
   ]
  },
  {
   "cell_type": "code",
   "execution_count": null,
   "id": "b1e61803-b381-41de-ab3a-d360a5fec494",
   "metadata": {},
   "outputs": [],
   "source": []
  }
 ],
 "metadata": {
  "kernelspec": {
   "display_name": "CSCS Python",
   "language": "python",
   "name": "cscs"
  },
  "language_info": {
   "codemirror_mode": {
    "name": "ipython",
    "version": 3
   },
   "file_extension": ".py",
   "mimetype": "text/x-python",
   "name": "python",
   "nbconvert_exporter": "python",
   "pygments_lexer": "ipython3",
   "version": "3.9.4"
  }
 },
 "nbformat": 4,
 "nbformat_minor": 5
}
